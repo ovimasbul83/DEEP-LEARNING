{
  "nbformat": 4,
  "nbformat_minor": 0,
  "metadata": {
    "colab": {
      "name": "myfirsttransferlearning.ipynb",
      "provenance": [],
      "authorship_tag": "ABX9TyPT27KLivYCH8ZOcs/mQltN",
      "include_colab_link": true
    },
    "kernelspec": {
      "name": "python3",
      "display_name": "Python 3"
    },
    "accelerator": "GPU"
  },
  "cells": [
    {
      "cell_type": "markdown",
      "metadata": {
        "id": "view-in-github",
        "colab_type": "text"
      },
      "source": [
        "<a href=\"https://colab.research.google.com/github/ovimasbul83/ovimasbul83/blob/main/MyFirstTransferLearning.ipynb\" target=\"_parent\"><img src=\"https://colab.research.google.com/assets/colab-badge.svg\" alt=\"Open In Colab\"/></a>"
      ]
    },
    {
      "cell_type": "code",
      "metadata": {
        "id": "xdt3DH5QcxMD"
      },
      "source": [
        "from tensorflow.keras import layers\n",
        "from tensorflow.keras import Model"
      ],
      "execution_count": null,
      "outputs": []
    },
    {
      "cell_type": "code",
      "metadata": {
        "id": "WvYifBLfdkjE",
        "colab": {
          "base_uri": "https://localhost:8080/",
          "height": 202
        },
        "outputId": "a72b4215-1b17-4aa3-8e35-eae58a144a88"
      },
      "source": [
        "!wget https://storage.googleapis.com/mledu-datasets/inception_v3_weights_tf_dim_ordering_tf_kernels_notop.h5 \\\n",
        "    -O /tmp/inception_v3_weights_tf_dim_ordering_tf_kernels_notop.h5"
      ],
      "execution_count": null,
      "outputs": [
        {
          "output_type": "stream",
          "text": [
            "--2020-06-28 15:58:09--  https://storage.googleapis.com/mledu-datasets/inception_v3_weights_tf_dim_ordering_tf_kernels_notop.h5\n",
            "Resolving storage.googleapis.com (storage.googleapis.com)... 108.177.119.128, 108.177.126.128, 173.194.69.128, ...\n",
            "Connecting to storage.googleapis.com (storage.googleapis.com)|108.177.119.128|:443... connected.\n",
            "HTTP request sent, awaiting response... 200 OK\n",
            "Length: 87910968 (84M) [application/x-hdf]\n",
            "Saving to: ‘/tmp/inception_v3_weights_tf_dim_ordering_tf_kernels_notop.h5’\n",
            "\n",
            "/tmp/inception_v3_w 100%[===================>]  83.84M  78.1MB/s    in 1.1s    \n",
            "\n",
            "2020-06-28 15:58:10 (78.1 MB/s) - ‘/tmp/inception_v3_weights_tf_dim_ordering_tf_kernels_notop.h5’ saved [87910968/87910968]\n",
            "\n"
          ],
          "name": "stdout"
        }
      ]
    },
    {
      "cell_type": "code",
      "metadata": {
        "id": "X6spqf_7dwMj"
      },
      "source": [
        "from tensorflow.keras.applications.inception_v3 import InceptionV3"
      ],
      "execution_count": null,
      "outputs": []
    },
    {
      "cell_type": "code",
      "metadata": {
        "id": "jSDbdanCe0Qw",
        "colab": {
          "base_uri": "https://localhost:8080/",
          "height": 34
        },
        "outputId": "586fbb2f-abd5-431e-ecd9-e277825315eb"
      },
      "source": [
        "local_weight_files='/tmp/inception_v3_weights_tf_dim_ordering_tf_kernels_notop.h5'\n",
        "pre_trained_model=InceptionV3(include_top=False,input_shape=(150,150,3),weights=None)\n",
        "pre_trained_model.load_weights(local_weight_files)\n",
        "for layer in pre_trained_model.layers:\n",
        "  layer.trainable=False\n",
        "last_layer=pre_trained_model.get_layer('mixed7')\n",
        "last_output=last_layer.output\n",
        "last_output\n"
      ],
      "execution_count": null,
      "outputs": [
        {
          "output_type": "execute_result",
          "data": {
            "text/plain": [
              "<tf.Tensor 'mixed7/Identity:0' shape=(None, 7, 7, 768) dtype=float32>"
            ]
          },
          "metadata": {
            "tags": []
          },
          "execution_count": 4
        }
      ]
    },
    {
      "cell_type": "markdown",
      "metadata": {
        "id": "-b6-ikeUjkXh"
      },
      "source": [
        "***DNN***"
      ]
    },
    {
      "cell_type": "code",
      "metadata": {
        "id": "BA8CnRPdhSKw"
      },
      "source": [
        "from tensorflow.keras.optimizers import RMSprop\n",
        "x=layers.Flatten()(last_output)\n",
        "x=layers.Dense(1024,activation='relu')(x)\n",
        "x=layers.Dropout(0.2)(x)\n",
        "x=layers.Dense(1,activation='sigmoid')(x)\n",
        "model=Model(pre_trained_model.input,x)\n",
        "model.compile(optimizer=RMSprop(learning_rate=0.001),loss='binary_crossentropy',metrics=['accuracy'])"
      ],
      "execution_count": null,
      "outputs": []
    },
    {
      "cell_type": "code",
      "metadata": {
        "id": "X-Q1DOQilSyu",
        "colab": {
          "base_uri": "https://localhost:8080/",
          "height": 235
        },
        "outputId": "1dc969a1-a3dd-4812-b620-5d7188d40148"
      },
      "source": [
        "!wget --no-check-certificate \\\n",
        "        https://storage.googleapis.com/mledu-datasets/cats_and_dogs_filtered.zip \\\n",
        "       -O /tmp/cats_and_dogs_filtered.zip\n",
        "\n",
        "from tensorflow.keras.preprocessing.image import ImageDataGenerator\n",
        "\n",
        "import os\n",
        "import zipfile\n",
        "\n",
        "local_zip = '//tmp/cats_and_dogs_filtered.zip'\n",
        "\n",
        "zip_ref = zipfile.ZipFile(local_zip, 'r')\n",
        "\n",
        "zip_ref.extractall('/tmp')\n",
        "zip_ref.close()\n",
        "base_dir = '/tmp/cats_and_dogs_filtered'\n",
        "\n",
        "train_dir = os.path.join( base_dir, 'train')\n",
        "validation_dir = os.path.join( base_dir, 'validation')\n",
        "\n",
        "\n",
        "train_cats_dir = os.path.join(train_dir, 'cats')\n",
        "train_dogs_dir = os.path.join(train_dir, 'dogs')\n",
        "validation_cats_dir = os.path.join(validation_dir, 'cats') \n",
        "validation_dogs_dir = os.path.join(validation_dir, 'dogs')\n",
        "\n",
        "train_cat_fnames = os.listdir(train_cats_dir)\n",
        "train_dog_fnames = os.listdir(train_dogs_dir)\n",
        "train_datagen = ImageDataGenerator(rescale = 1./255.,\n",
        "                                   rotation_range = 40,\n",
        "                                   width_shift_range = 0.2,\n",
        "                                   height_shift_range = 0.2,\n",
        "                                   shear_range = 0.2,\n",
        "                                   zoom_range = 0.2,\n",
        "                                   horizontal_flip = True)\n",
        "test_datagen = ImageDataGenerator( rescale = 1.0/255. )\n",
        "train_generator = train_datagen.flow_from_directory(train_dir,\n",
        "                                                    batch_size = 20,\n",
        "                                                    class_mode = 'binary', \n",
        "                                                    target_size = (150, 150))     \n",
        "validation_generator =  test_datagen.flow_from_directory( validation_dir,\n",
        "                                                          batch_size  = 20,\n",
        "                                                          class_mode  = 'binary', \n",
        "                                                          target_size = (150, 150))"
      ],
      "execution_count": null,
      "outputs": [
        {
          "output_type": "stream",
          "text": [
            "--2020-06-28 15:58:51--  https://storage.googleapis.com/mledu-datasets/cats_and_dogs_filtered.zip\n",
            "Resolving storage.googleapis.com (storage.googleapis.com)... 108.177.119.128, 108.177.126.128, 173.194.69.128, ...\n",
            "Connecting to storage.googleapis.com (storage.googleapis.com)|108.177.119.128|:443... connected.\n",
            "HTTP request sent, awaiting response... 200 OK\n",
            "Length: 68606236 (65M) [application/zip]\n",
            "Saving to: ‘/tmp/cats_and_dogs_filtered.zip’\n",
            "\n",
            "\r          /tmp/cats   0%[                    ]       0  --.-KB/s               \r         /tmp/cats_  12%[=>                  ]   8.01M  26.6MB/s               \r        /tmp/cats_a  73%[=============>      ]  48.01M  81.3MB/s               \r/tmp/cats_and_dogs_ 100%[===================>]  65.43M   103MB/s    in 0.6s    \n",
            "\n",
            "2020-06-28 15:58:52 (103 MB/s) - ‘/tmp/cats_and_dogs_filtered.zip’ saved [68606236/68606236]\n",
            "\n",
            "Found 2000 images belonging to 2 classes.\n",
            "Found 1000 images belonging to 2 classes.\n"
          ],
          "name": "stdout"
        }
      ]
    },
    {
      "cell_type": "code",
      "metadata": {
        "id": "1u2pgOvnm5Vm",
        "colab": {
          "base_uri": "https://localhost:8080/",
          "height": 689
        },
        "outputId": "4a6341b0-ce23-49c1-afd3-fc48f27ad290"
      },
      "source": [
        "history = model.fit(\n",
        "            train_generator,\n",
        "            validation_data = validation_generator,\n",
        "            steps_per_epoch = 100,\n",
        "            epochs = 20,\n",
        "            validation_steps = 50,\n",
        "            verbose = 2)"
      ],
      "execution_count": null,
      "outputs": [
        {
          "output_type": "stream",
          "text": [
            "Epoch 1/20\n",
            "100/100 - 20s - loss: 1.4523 - accuracy: 0.8460 - val_loss: 0.2628 - val_accuracy: 0.9420\n",
            "Epoch 2/20\n",
            "100/100 - 19s - loss: 0.3871 - accuracy: 0.8905 - val_loss: 0.1478 - val_accuracy: 0.9570\n",
            "Epoch 3/20\n",
            "100/100 - 18s - loss: 0.3532 - accuracy: 0.9075 - val_loss: 0.1419 - val_accuracy: 0.9570\n",
            "Epoch 4/20\n",
            "100/100 - 18s - loss: 0.2942 - accuracy: 0.9235 - val_loss: 0.2555 - val_accuracy: 0.9390\n",
            "Epoch 5/20\n",
            "100/100 - 18s - loss: 0.2611 - accuracy: 0.9235 - val_loss: 0.1518 - val_accuracy: 0.9590\n",
            "Epoch 6/20\n",
            "100/100 - 18s - loss: 0.2999 - accuracy: 0.9170 - val_loss: 0.3113 - val_accuracy: 0.9190\n",
            "Epoch 7/20\n",
            "100/100 - 18s - loss: 0.2529 - accuracy: 0.9205 - val_loss: 0.1136 - val_accuracy: 0.9640\n",
            "Epoch 8/20\n",
            "100/100 - 18s - loss: 0.2714 - accuracy: 0.9160 - val_loss: 0.1127 - val_accuracy: 0.9600\n",
            "Epoch 9/20\n",
            "100/100 - 18s - loss: 0.2509 - accuracy: 0.9170 - val_loss: 0.1820 - val_accuracy: 0.9500\n",
            "Epoch 10/20\n",
            "100/100 - 18s - loss: 0.2215 - accuracy: 0.9330 - val_loss: 0.1274 - val_accuracy: 0.9630\n",
            "Epoch 11/20\n",
            "100/100 - 18s - loss: 0.2240 - accuracy: 0.9310 - val_loss: 0.1454 - val_accuracy: 0.9640\n",
            "Epoch 12/20\n",
            "100/100 - 18s - loss: 0.2525 - accuracy: 0.9370 - val_loss: 0.1283 - val_accuracy: 0.9670\n",
            "Epoch 13/20\n",
            "100/100 - 18s - loss: 0.1984 - accuracy: 0.9390 - val_loss: 0.1481 - val_accuracy: 0.9630\n",
            "Epoch 14/20\n",
            "100/100 - 18s - loss: 0.2081 - accuracy: 0.9325 - val_loss: 0.1242 - val_accuracy: 0.9670\n",
            "Epoch 15/20\n",
            "100/100 - 18s - loss: 0.1861 - accuracy: 0.9440 - val_loss: 0.1113 - val_accuracy: 0.9700\n",
            "Epoch 16/20\n",
            "100/100 - 18s - loss: 0.1879 - accuracy: 0.9450 - val_loss: 0.1362 - val_accuracy: 0.9610\n",
            "Epoch 17/20\n",
            "100/100 - 18s - loss: 0.1802 - accuracy: 0.9440 - val_loss: 0.1018 - val_accuracy: 0.9730\n",
            "Epoch 18/20\n",
            "100/100 - 18s - loss: 0.1890 - accuracy: 0.9445 - val_loss: 0.1118 - val_accuracy: 0.9690\n",
            "Epoch 19/20\n",
            "100/100 - 18s - loss: 0.1661 - accuracy: 0.9520 - val_loss: 0.1018 - val_accuracy: 0.9710\n",
            "Epoch 20/20\n",
            "100/100 - 18s - loss: 0.1772 - accuracy: 0.9460 - val_loss: 0.1426 - val_accuracy: 0.9680\n"
          ],
          "name": "stdout"
        }
      ]
    },
    {
      "cell_type": "code",
      "metadata": {
        "id": "Ci9ZP4AKm8aF",
        "colab": {
          "base_uri": "https://localhost:8080/",
          "height": 513
        },
        "outputId": "4ce446e0-b7b6-47cd-f2ce-09e9e7c5fd7e"
      },
      "source": [
        "import matplotlib.pyplot as plt\n",
        "import matplotlib.style\n",
        "matplotlib.style.use('ggplot')\n",
        "acc=history.history['accuracy']\n",
        "val_acc=history.history['val_accuracy']\n",
        "loss=history.history['loss']\n",
        "val_loss=history.history['val_loss']\n",
        "epoch=range(len(acc))\n",
        "plt.plot(epoch,acc,'bo',label='training acc')\n",
        "plt.plot(epoch,val_acc,'b',label='val acc')\n",
        "plt.legend()\n",
        "plt.figure()\n",
        "plt.plot(epoch,loss,'bo',label='training loss')\n",
        "plt.plot(epoch,val_loss,'b',label='val loss')\n",
        "plt.legend()\n",
        "plt.show()"
      ],
      "execution_count": null,
      "outputs": [
        {
          "output_type": "display_data",
          "data": {
            "image/png": "[encoded data removed]",
            "text/plain": [
              "<Figure size 432x288 with 1 Axes>"
            ]
          },
          "metadata": {
            "tags": []
          }
        },
        {
          "output_type": "display_data",
          "data": {
            "image/png": "[encoded data removed]",
            "text/plain": [
              "<Figure size 432x288 with 1 Axes>"
            ]
          },
          "metadata": {
            "tags": []
          }
        }
      ]
    },
    {
      "cell_type": "code",
      "metadata": {
        "id": "ozXM8fzEs6vd"
      },
      "source": [
        ""
      ],
      "execution_count": null,
      "outputs": []
    }
  ]
}