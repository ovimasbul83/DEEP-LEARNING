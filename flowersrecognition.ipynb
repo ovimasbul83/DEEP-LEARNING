{
  "nbformat": 4,
  "nbformat_minor": 0,
  "metadata": {
    "colab": {
      "name": "flowersrecognition.ipynb",
      "provenance": [],
      "authorship_tag": "ABX9TyO2yg2T1tAUmDZQJv6F3Dqa",
      "include_colab_link": true
    },
    "kernelspec": {
      "name": "python3",
      "display_name": "Python 3"
    },
    "accelerator": "GPU"
  },
  "cells": [
    {
      "cell_type": "markdown",
      "metadata": {
        "id": "view-in-github",
        "colab_type": "text"
      },
      "source": [
        "<a href=\"https://colab.research.google.com/github/ovimasbul83/ovimasbul83/blob/main/flowersrecognition.ipynb\" target=\"_parent\"><img src=\"https://colab.research.google.com/assets/colab-badge.svg\" alt=\"Open In Colab\"/></a>"
      ]
    },
    {
      "cell_type": "code",
      "metadata": {
        "id": "p2TVDM82t3s5",
        "colab": {
          "base_uri": "https://localhost:8080/",
          "height": 202
        },
        "outputId": "8a0338a7-1b10-46f9-8122-e3c4944f0f2a"
      },
      "source": [
        "!pip install kaggle"
      ],
      "execution_count": null,
      "outputs": [
        {
          "output_type": "stream",
          "text": [
            "Requirement already satisfied: kaggle in /usr/local/lib/python3.6/dist-packages (1.5.6)\n",
            "Requirement already satisfied: six>=1.10 in /usr/local/lib/python3.6/dist-packages (from kaggle) (1.12.0)\n",
            "Requirement already satisfied: certifi in /usr/local/lib/python3.6/dist-packages (from kaggle) (2020.6.20)\n",
            "Requirement already satisfied: python-slugify in /usr/local/lib/python3.6/dist-packages (from kaggle) (4.0.1)\n",
            "Requirement already satisfied: requests in /usr/local/lib/python3.6/dist-packages (from kaggle) (2.23.0)\n",
            "Requirement already satisfied: urllib3<1.25,>=1.21.1 in /usr/local/lib/python3.6/dist-packages (from kaggle) (1.24.3)\n",
            "Requirement already satisfied: tqdm in /usr/local/lib/python3.6/dist-packages (from kaggle) (4.41.1)\n",
            "Requirement already satisfied: python-dateutil in /usr/local/lib/python3.6/dist-packages (from kaggle) (2.8.1)\n",
            "Requirement already satisfied: text-unidecode>=1.3 in /usr/local/lib/python3.6/dist-packages (from python-slugify->kaggle) (1.3)\n",
            "Requirement already satisfied: idna<3,>=2.5 in /usr/local/lib/python3.6/dist-packages (from requests->kaggle) (2.10)\n",
            "Requirement already satisfied: chardet<4,>=3.0.2 in /usr/local/lib/python3.6/dist-packages (from requests->kaggle) (3.0.4)\n"
          ],
          "name": "stdout"
        }
      ]
    },
    {
      "cell_type": "code",
      "metadata": {
        "id": "T3FzK7z77ShQ",
        "colab": {
          "resources": {
            "http://localhost:8080/nbextensions/google.colab/files.js": {
              "data": "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",
              "ok": true,
              "headers": [
                [
                  "content-type",
                  "application/javascript"
                ]
              ],
              "status": 200,
              "status_text": ""
            }
          },
          "base_uri": "https://localhost:8080/",
          "height": 90
        },
        "outputId": "bcbbb4fb-ef22-421e-f6a6-8684842f55e1"
      },
      "source": [
        "from google.colab import files\n",
        "files.upload()"
      ],
      "execution_count": null,
      "outputs": [
        {
          "output_type": "display_data",
          "data": {
            "text/html": [
              "\n",
              "     <input type=\"file\" id=\"files-5b0f782c-0ba9-4f2c-8c0e-01ba05bf51b9\" name=\"files[]\" multiple disabled\n",
              "        style=\"border:none\" />\n",
              "     <output id=\"result-5b0f782c-0ba9-4f2c-8c0e-01ba05bf51b9\">\n",
              "      Upload widget is only available when the cell has been executed in the\n",
              "      current browser session. Please rerun this cell to enable.\n",
              "      </output>\n",
              "      <script src=\"/nbextensions/google.colab/files.js\"></script> "
            ],
            "text/plain": [
              "<IPython.core.display.HTML object>"
            ]
          },
          "metadata": {
            "tags": []
          }
        },
        {
          "output_type": "stream",
          "text": [
            "Saving kaggle.json to kaggle.json\n"
          ],
          "name": "stdout"
        },
        {
          "output_type": "execute_result",
          "data": {
            "text/plain": [
              "{'kaggle.json': b'{\"username\":\"ovihaider\",\"key\":\"4b1047900f51dd329793ea188b962d15\"}'}"
            ]
          },
          "metadata": {
            "tags": []
          },
          "execution_count": 2
        }
      ]
    },
    {
      "cell_type": "code",
      "metadata": {
        "id": "C-pXbh0q8yFT"
      },
      "source": [
        "!mkdir -p ~/.kaggle\n",
        "!cp kaggle.json ~/.kaggle/\n",
        "!chmod 600 ~/.kaggle/kaggle.json"
      ],
      "execution_count": null,
      "outputs": []
    },
    {
      "cell_type": "code",
      "metadata": {
        "id": "QOU8odqIWZGU",
        "colab": {
          "base_uri": "https://localhost:8080/",
          "height": 67
        },
        "outputId": "993f0a6e-0008-4fb7-e2ea-4550c1e216a3"
      },
      "source": [
        "!kaggle datasets download -d alxmamaev/flowers-recognition"
      ],
      "execution_count": null,
      "outputs": [
        {
          "output_type": "stream",
          "text": [
            "Downloading flowers-recognition.zip to /content\n",
            " 99% 444M/450M [00:04<00:00, 89.1MB/s]\n",
            "100% 450M/450M [00:04<00:00, 94.5MB/s]\n"
          ],
          "name": "stdout"
        }
      ]
    },
    {
      "cell_type": "code",
      "metadata": {
        "id": "TAhyQTz-W_Ha"
      },
      "source": [
        "import zipfile\n",
        "local_zip='/content/flowers-recognition.zip'\n",
        "zipref=zipfile.ZipFile(local_zip,'r')\n",
        "zipref.extractall('/tmp/Flowers')\n",
        "zipref.close()"
      ],
      "execution_count": null,
      "outputs": []
    },
    {
      "cell_type": "code",
      "metadata": {
        "id": "-y7DF_JrXo4F"
      },
      "source": [
        "import os\n",
        "import random\n",
        "from shutil import copyfile"
      ],
      "execution_count": null,
      "outputs": []
    },
    {
      "cell_type": "code",
      "metadata": {
        "id": "Vk2vMTE-ZYc3"
      },
      "source": [
        "try:\n",
        "  os.mkdir('/tmp/Flowers/flower')\n",
        "  os.mkdir('/tmp/Flowers/flower/training')\n",
        "  os.mkdir('/tmp/Flowers/flower/training/daisy')\n",
        "  os.mkdir('/tmp/Flowers/flower/training/dandelion')\n",
        "  os.mkdir('/tmp/Flowers/flower/training/rose')\n",
        "  os.mkdir('/tmp/Flowers/flower/training/sunflower')\n",
        "  os.mkdir('/tmp/Flowers/flower/training/tulip')\n",
        "  os.mkdir('/tmp/Flowers/flower/test')\n",
        "  os.mkdir('/tmp/Flowers/flower/test/daisy')\n",
        "  os.mkdir('/tmp/Flowers/flower/test/dandelion')\n",
        "  os.mkdir('/tmp/Flowers/flower/test/rose')\n",
        "  os.mkdir('/tmp/Flowers/flower/test/sunflower')\n",
        "  os.mkdir('/tmp/Flowers/flower/test/tulip')\n",
        "except OSError:\n",
        "  pass"
      ],
      "execution_count": null,
      "outputs": []
    },
    {
      "cell_type": "code",
      "metadata": {
        "id": "wL16LA4eZxGZ"
      },
      "source": [
        "def split_data(SOURCE, TRAINING, TESTING, SPLIT_SIZE):\n",
        "    dataset = []\n",
        "    \n",
        "    for unitData in os.listdir(SOURCE):\n",
        "        data = SOURCE + unitData\n",
        "        if (os.path.getsize(data) > 0):\n",
        "            dataset.append(unitData)\n",
        "        else:\n",
        "            print('Skipped ' + unitData)\n",
        "            print('Invalid file size! i.e Zero length.')\n",
        "    \n",
        "    train_data_length = int(len(dataset) * SPLIT_SIZE)\n",
        "    test_data_length = int(len(dataset) - train_data_length)\n",
        "    shuffled_set = random.sample(dataset, len(dataset))\n",
        "    train_set = shuffled_set[0:train_data_length]\n",
        "    test_set = shuffled_set[-test_data_length:]\n",
        "    \n",
        "    for unitData in train_set:\n",
        "        temp_train_data = SOURCE + unitData\n",
        "        final_train_data = TRAINING + unitData\n",
        "        copyfile(temp_train_data, final_train_data)\n",
        "    \n",
        "    for unitData in test_set:\n",
        "        temp_test_data = SOURCE + unitData\n",
        "        final_test_data = TESTING + unitData\n",
        "        copyfile(temp_train_data, final_test_data)"
      ],
      "execution_count": null,
      "outputs": []
    },
    {
      "cell_type": "code",
      "metadata": {
        "id": "LCjDllcJcYx1"
      },
      "source": [
        "daisysource='/tmp/Flowers/flowers/flowers/daisy/'\n",
        "daisytrain='/tmp/Flowers/flower/training/daisy/'\n",
        "daisytest='/tmp/Flowers/flower/test/daisy/'\n",
        "dandelionsource='/tmp/Flowers/flowers/dandelion/'\n",
        "dandeliontrain='/tmp/Flowers/flower/training/dandelion/'\n",
        "dandeliontest='/tmp/Flowers/flower/test/dandelion/'\n",
        "rosesource='/tmp/Flowers/flowers/rose/'\n",
        "rosetrain='/tmp/Flowers/flower/training/rose/'\n",
        "rosetest='/tmp/Flowers/flower/test/rose/'\n",
        "sunflowersource='/tmp/Flowers/flowers/sunflower/'\n",
        "sunflowertrain='/tmp/Flowers/flower/training/sunflower/'\n",
        "sunflowertest='/tmp/Flowers/flower/test/sunflower/'\n",
        "tulipsource='/tmp/Flowers/flowers/tulip/'\n",
        "tuliptrain='/tmp/Flowers/flower/training/tulip/'\n",
        "tuliptest='/tmp/Flowers/flower/test/tulip/'"
      ],
      "execution_count": null,
      "outputs": []
    },
    {
      "cell_type": "code",
      "metadata": {
        "id": "KwGN9upjeLm5"
      },
      "source": [
        "split_size=0.9\n",
        "split_data(daisysource,daisytrain,daisytest,split_size)\n",
        "split_data(dandelionsource,dandeliontrain,dandeliontest,split_size)\n",
        "split_data(rosesource,rosetrain,rosetest,split_size)\n",
        "split_data(sunflowersource,sunflowertrain,sunflowertest,split_size)\n",
        "split_data(tulipsource,tuliptrain,tuliptest,split_size)"
      ],
      "execution_count": null,
      "outputs": []
    },
    {
      "cell_type": "code",
      "metadata": {
        "id": "n__nSJk9eZAR",
        "colab": {
          "base_uri": "https://localhost:8080/",
          "height": 84
        },
        "outputId": "fe211a12-6087-4eb1-ef6d-83150b3cf6d9"
      },
      "source": [
        "print(len(os.listdir(daisytrain)))\n",
        "print(len(os.listdir(daisytest)))\n",
        "print(len(os.listdir(dandeliontrain)))\n",
        "print(len(os.listdir(dandeliontest)))\n"
      ],
      "execution_count": null,
      "outputs": [
        {
          "output_type": "stream",
          "text": [
            "692\n",
            "77\n",
            "949\n",
            "106\n"
          ],
          "name": "stdout"
        }
      ]
    },
    {
      "cell_type": "code",
      "metadata": {
        "id": "U6I4oCUan1hC"
      },
      "source": [
        "import tensorflow as tf\n",
        "from tensorflow.keras.preprocessing.image import ImageDataGenerator\n",
        "from tensorflow.keras.optimizers import Adam"
      ],
      "execution_count": null,
      "outputs": []
    },
    {
      "cell_type": "code",
      "metadata": {
        "id": "_USBJEWQlngi",
        "colab": {
          "base_uri": "https://localhost:8080/",
          "height": 50
        },
        "outputId": "ec30a2ed-54bb-4f4e-fd5f-2bfa73e48915"
      },
      "source": [
        "\n",
        "training_dir='/tmp/Flowers/flower/training'\n",
        "test_dir='/tmp/Flowers/flower/test'\n",
        "traindatagen=ImageDataGenerator(rescale=1/255,rotation_range=10,width_shift_range=0.2,height_shift_range=0.2,shear_range=45.0,zoom_range=0.2,fill_mode='nearest',horizontal_flip=True)\n",
        "testdatagen=ImageDataGenerator(rescale=1/255)\n",
        "traindata=traindatagen.flow_from_directory(training_dir,target_size=(256,256),class_mode='categorical',batch_size=5)\n",
        "testdata=testdatagen.flow_from_directory(test_dir,target_size=(256,256),class_mode='categorical',batch_size=5)\n",
        "traindata.class_indices"
      ],
      "execution_count": null,
      "outputs": [
        {
          "output_type": "stream",
          "text": [
            "Found 3888 images belonging to 5 classes.\n",
            "Found 435 images belonging to 5 classes.\n"
          ],
          "name": "stdout"
        }
      ]
    },
    {
      "cell_type": "code",
      "metadata": {
        "id": "nc_q4lJopPJg",
        "colab": {
          "base_uri": "https://localhost:8080/",
          "height": 554
        },
        "outputId": "79ef6065-1805-43a3-a97c-24336223f28b"
      },
      "source": [
        "model=tf.keras.models.Sequential([tf.keras.layers.Conv2D(32,(5,5),padding='same',input_shape=(256,256,3),activation='relu'),\n",
        "                                  tf.keras.layers.MaxPooling2D((2,2)),\n",
        "                                  tf.keras.layers.Conv2D(64,(3,3),activation='relu',padding='same'),\n",
        "                                  tf.keras.layers.MaxPooling2D((2,2),strides=(2,2)),\n",
        "                                  tf.keras.layers.Conv2D(96,(3,3),activation='relu',padding='same'),\n",
        "                                  tf.keras.layers.MaxPooling2D((2,2),strides=(2,2)),\n",
        "                                  tf.keras.layers.Conv2D(96,(3,3),activation='relu',padding='same'),\n",
        "                                  tf.keras.layers.MaxPooling2D((2,2),strides=(2,2)),\n",
        "                                  tf.keras.layers.Flatten(),\n",
        "                                  #tf.keras.layers.Dense(64,activation='relu'),\n",
        "                                  tf.keras.layers.Dropout(0.2),\n",
        "                                  tf.keras.layers.Dense(512,activation='relu'),\n",
        "                                  tf.keras.layers.Dense(5,activation='softmax')])\n",
        "model.compile(optimizer=Adam(learning_rate=0.0001),loss='categorical_crossentropy',metrics=['accuracy'])\n",
        "model.summary()"
      ],
      "execution_count": null,
      "outputs": [
        {
          "output_type": "stream",
          "text": [
            "Model: \"sequential_23\"\n",
            "_________________________________________________________________\n",
            "Layer (type)                 Output Shape              Param #   \n",
            "=================================================================\n",
            "conv2d_81 (Conv2D)           (None, 256, 256, 32)      2432      \n",
            "_________________________________________________________________\n",
            "max_pooling2d_81 (MaxPooling (None, 128, 128, 32)      0         \n",
            "_________________________________________________________________\n",
            "conv2d_82 (Conv2D)           (None, 128, 128, 64)      18496     \n",
            "_________________________________________________________________\n",
            "max_pooling2d_82 (MaxPooling (None, 64, 64, 64)        0         \n",
            "_________________________________________________________________\n",
            "conv2d_83 (Conv2D)           (None, 64, 64, 96)        55392     \n",
            "_________________________________________________________________\n",
            "max_pooling2d_83 (MaxPooling (None, 32, 32, 96)        0         \n",
            "_________________________________________________________________\n",
            "conv2d_84 (Conv2D)           (None, 32, 32, 96)        83040     \n",
            "_________________________________________________________________\n",
            "max_pooling2d_84 (MaxPooling (None, 16, 16, 96)        0         \n",
            "_________________________________________________________________\n",
            "flatten_23 (Flatten)         (None, 24576)             0         \n",
            "_________________________________________________________________\n",
            "dropout_5 (Dropout)          (None, 24576)             0         \n",
            "_________________________________________________________________\n",
            "dense_55 (Dense)             (None, 512)               12583424  \n",
            "_________________________________________________________________\n",
            "dense_56 (Dense)             (None, 5)                 2565      \n",
            "=================================================================\n",
            "Total params: 12,745,349\n",
            "Trainable params: 12,745,349\n",
            "Non-trainable params: 0\n",
            "_________________________________________________________________\n"
          ],
          "name": "stdout"
        }
      ]
    },
    {
      "cell_type": "code",
      "metadata": {
        "id": "YdNB_TyAr5qr",
        "colab": {
          "base_uri": "https://localhost:8080/",
          "height": 1000
        },
        "outputId": "64da44e0-8acf-437f-cec7-f6f89ff82bab"
      },
      "source": [
        "history=model.fit(traindata,steps_per_epoch=2,epochs=50,verbose=2,validation_data=testdata)"
      ],
      "execution_count": null,
      "outputs": [
        {
          "output_type": "stream",
          "text": [
            "Epoch 1/50\n",
            "2/2 - 2s - loss: 1.7371 - accuracy: 0.1000 - val_loss: 1.6145 - val_accuracy: 0.2276\n",
            "Epoch 2/50\n",
            "2/2 - 2s - loss: 1.4555 - accuracy: 0.4000 - val_loss: 1.7351 - val_accuracy: 0.2437\n",
            "Epoch 3/50\n",
            "2/2 - 2s - loss: 2.0128 - accuracy: 0.0000e+00 - val_loss: 1.7197 - val_accuracy: 0.2437\n",
            "Epoch 4/50\n",
            "2/2 - 2s - loss: 1.4701 - accuracy: 0.4000 - val_loss: 1.7027 - val_accuracy: 0.2437\n",
            "Epoch 5/50\n",
            "2/2 - 2s - loss: 1.8522 - accuracy: 0.1000 - val_loss: 1.6730 - val_accuracy: 0.2437\n",
            "Epoch 6/50\n",
            "2/2 - 2s - loss: 1.7424 - accuracy: 0.2000 - val_loss: 1.6496 - val_accuracy: 0.1701\n",
            "Epoch 7/50\n",
            "2/2 - 2s - loss: 1.5676 - accuracy: 0.2000 - val_loss: 1.6359 - val_accuracy: 0.1701\n",
            "Epoch 8/50\n",
            "2/2 - 2s - loss: 1.5603 - accuracy: 0.4000 - val_loss: 1.6298 - val_accuracy: 0.1701\n",
            "Epoch 9/50\n",
            "2/2 - 2s - loss: 1.6607 - accuracy: 0.0000e+00 - val_loss: 1.6251 - val_accuracy: 0.1701\n",
            "Epoch 10/50\n",
            "2/2 - 2s - loss: 1.6053 - accuracy: 0.3000 - val_loss: 1.6223 - val_accuracy: 0.2437\n",
            "Epoch 11/50\n",
            "2/2 - 2s - loss: 1.5948 - accuracy: 0.4000 - val_loss: 1.6228 - val_accuracy: 0.2437\n",
            "Epoch 12/50\n",
            "2/2 - 2s - loss: 1.5976 - accuracy: 0.2000 - val_loss: 1.6275 - val_accuracy: 0.2437\n",
            "Epoch 13/50\n",
            "2/2 - 2s - loss: 1.5561 - accuracy: 0.3000 - val_loss: 1.6376 - val_accuracy: 0.2437\n",
            "Epoch 14/50\n",
            "2/2 - 2s - loss: 1.6103 - accuracy: 0.4000 - val_loss: 1.6481 - val_accuracy: 0.2437\n",
            "Epoch 15/50\n",
            "2/2 - 2s - loss: 1.6471 - accuracy: 0.2000 - val_loss: 1.6435 - val_accuracy: 0.2437\n",
            "Epoch 16/50\n",
            "2/2 - 2s - loss: 1.5269 - accuracy: 0.4000 - val_loss: 1.6358 - val_accuracy: 0.2437\n",
            "Epoch 17/50\n",
            "2/2 - 2s - loss: 1.5342 - accuracy: 0.3000 - val_loss: 1.6386 - val_accuracy: 0.2437\n",
            "Epoch 18/50\n",
            "2/2 - 2s - loss: 1.5772 - accuracy: 0.2000 - val_loss: 1.6402 - val_accuracy: 0.2437\n",
            "Epoch 19/50\n",
            "2/2 - 2s - loss: 1.6771 - accuracy: 0.1000 - val_loss: 1.6397 - val_accuracy: 0.2437\n",
            "Epoch 20/50\n",
            "2/2 - 2s - loss: 1.7139 - accuracy: 0.1000 - val_loss: 1.6225 - val_accuracy: 0.2437\n",
            "Epoch 21/50\n",
            "2/2 - 2s - loss: 1.5783 - accuracy: 0.4000 - val_loss: 1.6024 - val_accuracy: 0.2437\n",
            "Epoch 22/50\n",
            "2/2 - 2s - loss: 1.6185 - accuracy: 0.3000 - val_loss: 1.5890 - val_accuracy: 0.4207\n",
            "Epoch 23/50\n",
            "2/2 - 2s - loss: 1.5868 - accuracy: 0.5000 - val_loss: 1.5761 - val_accuracy: 0.5908\n",
            "Epoch 24/50\n",
            "2/2 - 2s - loss: 1.5690 - accuracy: 0.3000 - val_loss: 1.5665 - val_accuracy: 0.1701\n",
            "Epoch 25/50\n",
            "2/2 - 2s - loss: 1.6021 - accuracy: 0.2000 - val_loss: 1.5563 - val_accuracy: 0.1701\n",
            "Epoch 26/50\n",
            "2/2 - 2s - loss: 1.5798 - accuracy: 0.2000 - val_loss: 1.5471 - val_accuracy: 0.1701\n",
            "Epoch 27/50\n",
            "2/2 - 2s - loss: 1.5747 - accuracy: 0.3000 - val_loss: 1.5419 - val_accuracy: 0.1701\n",
            "Epoch 28/50\n",
            "2/2 - 2s - loss: 1.5638 - accuracy: 0.2000 - val_loss: 1.5388 - val_accuracy: 0.1701\n",
            "Epoch 29/50\n",
            "2/2 - 2s - loss: 1.5441 - accuracy: 0.2000 - val_loss: 1.5375 - val_accuracy: 0.4138\n",
            "Epoch 30/50\n",
            "2/2 - 2s - loss: 1.6554 - accuracy: 0.2000 - val_loss: 1.5385 - val_accuracy: 0.2437\n",
            "Epoch 31/50\n",
            "2/2 - 2s - loss: 1.6253 - accuracy: 0.2000 - val_loss: 1.5383 - val_accuracy: 0.2437\n",
            "Epoch 32/50\n",
            "2/2 - 2s - loss: 1.5090 - accuracy: 0.4000 - val_loss: 1.5274 - val_accuracy: 0.2437\n",
            "Epoch 33/50\n",
            "2/2 - 2s - loss: 1.5187 - accuracy: 0.4000 - val_loss: 1.5129 - val_accuracy: 0.2437\n",
            "Epoch 34/50\n",
            "2/2 - 2s - loss: 1.7049 - accuracy: 0.1000 - val_loss: 1.4908 - val_accuracy: 0.2437\n",
            "Epoch 35/50\n",
            "2/2 - 2s - loss: 1.5793 - accuracy: 0.3000 - val_loss: 1.4769 - val_accuracy: 0.6483\n",
            "Epoch 36/50\n",
            "2/2 - 2s - loss: 1.5383 - accuracy: 0.5000 - val_loss: 1.4655 - val_accuracy: 0.6483\n",
            "Epoch 37/50\n",
            "2/2 - 2s - loss: 1.5593 - accuracy: 0.2000 - val_loss: 1.4668 - val_accuracy: 0.4046\n",
            "Epoch 38/50\n",
            "2/2 - 2s - loss: 1.5856 - accuracy: 0.1000 - val_loss: 1.4648 - val_accuracy: 0.2276\n",
            "Epoch 39/50\n",
            "2/2 - 2s - loss: 1.6177 - accuracy: 0.1000 - val_loss: 1.4527 - val_accuracy: 0.4046\n",
            "Epoch 40/50\n",
            "2/2 - 2s - loss: 1.5092 - accuracy: 0.2000 - val_loss: 1.4481 - val_accuracy: 0.1816\n",
            "Epoch 41/50\n",
            "2/2 - 2s - loss: 1.5584 - accuracy: 0.3000 - val_loss: 1.4237 - val_accuracy: 0.5287\n",
            "Epoch 42/50\n",
            "2/2 - 2s - loss: 1.5495 - accuracy: 0.3000 - val_loss: 1.3864 - val_accuracy: 0.7724\n",
            "Epoch 43/50\n",
            "2/2 - 2s - loss: 1.4340 - accuracy: 0.6000 - val_loss: 1.4087 - val_accuracy: 0.2437\n",
            "Epoch 44/50\n",
            "2/2 - 2s - loss: 1.5967 - accuracy: 0.1000 - val_loss: 1.4308 - val_accuracy: 0.2437\n",
            "Epoch 45/50\n",
            "2/2 - 2s - loss: 1.4635 - accuracy: 0.4000 - val_loss: 1.4312 - val_accuracy: 0.2437\n",
            "Epoch 46/50\n",
            "2/2 - 2s - loss: 1.6138 - accuracy: 0.3000 - val_loss: 1.3298 - val_accuracy: 0.5954\n",
            "Epoch 47/50\n",
            "2/2 - 2s - loss: 1.4921 - accuracy: 0.2000 - val_loss: 1.3983 - val_accuracy: 0.1816\n",
            "Epoch 48/50\n",
            "2/2 - 2s - loss: 1.8557 - accuracy: 0.1000 - val_loss: 1.5048 - val_accuracy: 0.1816\n",
            "Epoch 49/50\n",
            "2/2 - 2s - loss: 1.5310 - accuracy: 0.2000 - val_loss: 1.4558 - val_accuracy: 0.1816\n",
            "Epoch 50/50\n",
            "2/2 - 2s - loss: 1.5604 - accuracy: 0.2000 - val_loss: 1.4154 - val_accuracy: 0.1816\n"
          ],
          "name": "stdout"
        }
      ]
    }
  ]
}