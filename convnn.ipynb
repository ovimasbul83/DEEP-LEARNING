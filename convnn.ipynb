{
 "cells": [
  {
   "cell_type": "code",
   "execution_count": 1,
   "metadata": {
    "tags": []
   },
   "outputs": [
    {
     "output_type": "stream",
     "name": "stdout",
     "text": "Model: \"sequential\"\n_________________________________________________________________\nLayer (type)                 Output Shape              Param #   \n=================================================================\nconv2d (Conv2D)              (None, 26, 26, 64)        640       \n_________________________________________________________________\nmax_pooling2d (MaxPooling2D) (None, 13, 13, 64)        0         \n_________________________________________________________________\nconv2d_1 (Conv2D)            (None, 11, 11, 64)        36928     \n_________________________________________________________________\nmax_pooling2d_1 (MaxPooling2 (None, 5, 5, 64)          0         \n_________________________________________________________________\nflatten (Flatten)            (None, 1600)              0         \n_________________________________________________________________\ndense (Dense)                (None, 128)               204928    \n_________________________________________________________________\ndense_1 (Dense)              (None, 10)                1290      \n=================================================================\nTotal params: 243,786\nTrainable params: 243,786\nNon-trainable params: 0\n_________________________________________________________________\nTrain on 60000 samples\nEpoch 1/5\n 5184/60000 [=>............................] - ETA: 1:09 - loss: 0.8765 - accuracy: 0.6692"
    }
   ],
   "source": [
    "import tensorflow as tf \n",
    "import matplotlib.pyplot as plt\n",
    "from tensorflow import keras \n",
    "class mycallback(tf.keras.callbacks.Callback):\n",
    "  def on_epoch_end(self,epochs,log={}):\n",
    "    if(log.get('accuracy')>0.99):\n",
    "      print('score is 99%')\n",
    "      model.stop_training=True\n",
    "callbacks=mycallback()\n",
    "fm=keras.datasets.fashion_mnist\n",
    "(training_images, training_labels), (test_images, test_labels) = fm.load_data()\n",
    "training_images=training_images.reshape(60000, 28, 28, 1)\n",
    "training_images=training_images/255.0\n",
    "test_images=test_images/255.0\n",
    "model=tf.keras.models.Sequential([tf.keras.layers.Conv2D(64,(3,3),activation='relu',input_shape=(28,28,1)),\n",
    "                                tf.keras.layers.MaxPooling2D(2,2),\n",
    "                                tf.keras.layers.Conv2D(64,(3,3),activation='relu'),\n",
    "                                tf.keras.layers.MaxPooling2D(2,2),\n",
    "                                tf.keras.layers.Flatten(),\n",
    "                                tf.keras.layers.Dense(128,activation='relu'),\n",
    "                                tf.keras.layers.Dense(10,activation='softmax')])\n",
    "\n",
    "model.compile(optimizer='adam',loss='sparse_categorical_crossentropy',metrics=['accuracy'])\n",
    "model.summary()\n",
    "model.fit(training_images, training_labels, epochs=5,callbacks=[callbacks])"
   ]
  },
  {
   "cell_type": "code",
   "execution_count": null,
   "metadata": {},
   "outputs": [],
   "source": []
  },
  {
   "cell_type": "code",
   "execution_count": null,
   "metadata": {},
   "outputs": [],
   "source": []
  }
 ],
 "metadata": {
  "language_info": {
   "codemirror_mode": {
    "name": "ipython",
    "version": 3
   },
   "file_extension": ".py",
   "mimetype": "text/x-python",
   "name": "python",
   "nbconvert_exporter": "python",
   "pygments_lexer": "ipython3",
   "version": "3.7.6-final"
  },
  "orig_nbformat": 2,
  "kernelspec": {
   "name": "python3",
   "display_name": "Python 3"
  }
 },
 "nbformat": 4,
 "nbformat_minor": 2
}